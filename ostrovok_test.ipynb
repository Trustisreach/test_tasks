{
 "cells": [
  {
   "cell_type": "code",
   "execution_count": 73,
   "metadata": {},
   "outputs": [],
   "source": [
    "# Импортируем библиотеки\n",
    "\n",
    "import pandas as pd\n",
    "import numpy as np\n",
    "import seaborn as sns\n",
    "import datetime\n",
    "import matplotlib.pyplot as plt\n",
    "from abc_analysis import abc_analysis\n",
    "\n",
    "sns.set(rc={'figure.figsize':(11.7,8.27)})"
   ]
  },
  {
   "cell_type": "code",
   "execution_count": 74,
   "metadata": {},
   "outputs": [],
   "source": [
    "#Загружаем датасет\n",
    "path = 'Data for Marketing analyst research.csv'\n",
    "df = pd.read_csv(path, sep = ',')"
   ]
  },
  {
   "cell_type": "code",
   "execution_count": 75,
   "metadata": {},
   "outputs": [
    {
     "data": {
      "text/html": [
       "<div>\n",
       "<style scoped>\n",
       "    .dataframe tbody tr th:only-of-type {\n",
       "        vertical-align: middle;\n",
       "    }\n",
       "\n",
       "    .dataframe tbody tr th {\n",
       "        vertical-align: top;\n",
       "    }\n",
       "\n",
       "    .dataframe thead th {\n",
       "        text-align: right;\n",
       "    }\n",
       "</style>\n",
       "<table border=\"1\" class=\"dataframe\">\n",
       "  <thead>\n",
       "    <tr style=\"text-align: right;\">\n",
       "      <th></th>\n",
       "      <th>session_id</th>\n",
       "      <th>user_id</th>\n",
       "      <th>session_datetime</th>\n",
       "      <th>device</th>\n",
       "      <th>marketing_channel_1</th>\n",
       "      <th>marketing_channel_2</th>\n",
       "      <th>session_with_booking</th>\n",
       "    </tr>\n",
       "  </thead>\n",
       "  <tbody>\n",
       "    <tr>\n",
       "      <th>0</th>\n",
       "      <td>384542546</td>\n",
       "      <td>344186915</td>\n",
       "      <td>2017-01-01 00:07:33+03</td>\n",
       "      <td>pc</td>\n",
       "      <td>brand</td>\n",
       "      <td>type-in</td>\n",
       "      <td>0</td>\n",
       "    </tr>\n",
       "    <tr>\n",
       "      <th>1</th>\n",
       "      <td>384542869</td>\n",
       "      <td>344187468</td>\n",
       "      <td>2017-01-01 00:19:26+03</td>\n",
       "      <td>mobile</td>\n",
       "      <td>metasearch</td>\n",
       "      <td>trivago</td>\n",
       "      <td>0</td>\n",
       "    </tr>\n",
       "    <tr>\n",
       "      <th>2</th>\n",
       "      <td>384543050</td>\n",
       "      <td>344187922</td>\n",
       "      <td>2017-01-01 00:25:53+03</td>\n",
       "      <td>pc</td>\n",
       "      <td>cpc</td>\n",
       "      <td>sem</td>\n",
       "      <td>0</td>\n",
       "    </tr>\n",
       "    <tr>\n",
       "      <th>3</th>\n",
       "      <td>384543457</td>\n",
       "      <td>344188772</td>\n",
       "      <td>2017-01-01 00:38:13+03</td>\n",
       "      <td>pc</td>\n",
       "      <td>metasearch</td>\n",
       "      <td>trivago</td>\n",
       "      <td>0</td>\n",
       "    </tr>\n",
       "    <tr>\n",
       "      <th>4</th>\n",
       "      <td>384543471</td>\n",
       "      <td>341730859</td>\n",
       "      <td>2017-01-01 00:38:32+03</td>\n",
       "      <td>mobile</td>\n",
       "      <td>brand</td>\n",
       "      <td>type-in</td>\n",
       "      <td>0</td>\n",
       "    </tr>\n",
       "  </tbody>\n",
       "</table>\n",
       "</div>"
      ],
      "text/plain": [
       "   session_id    user_id        session_datetime  device marketing_channel_1  \\\n",
       "0   384542546  344186915  2017-01-01 00:07:33+03      pc               brand   \n",
       "1   384542869  344187468  2017-01-01 00:19:26+03  mobile          metasearch   \n",
       "2   384543050  344187922  2017-01-01 00:25:53+03      pc                 cpc   \n",
       "3   384543457  344188772  2017-01-01 00:38:13+03      pc          metasearch   \n",
       "4   384543471  341730859  2017-01-01 00:38:32+03  mobile               brand   \n",
       "\n",
       "  marketing_channel_2  session_with_booking  \n",
       "0             type-in                     0  \n",
       "1             trivago                     0  \n",
       "2                 sem                     0  \n",
       "3             trivago                     0  \n",
       "4             type-in                     0  "
      ]
     },
     "execution_count": 75,
     "metadata": {},
     "output_type": "execute_result"
    }
   ],
   "source": [
    "df.head()\n"
   ]
  },
  {
   "cell_type": "code",
   "execution_count": 76,
   "metadata": {},
   "outputs": [
    {
     "data": {
      "text/plain": [
       "session_id              0\n",
       "user_id                 0\n",
       "session_datetime        0\n",
       "device                  0\n",
       "marketing_channel_1     0\n",
       "marketing_channel_2     0\n",
       "session_with_booking    0\n",
       "dtype: int64"
      ]
     },
     "execution_count": 76,
     "metadata": {},
     "output_type": "execute_result"
    }
   ],
   "source": [
    "df.isna().sum()"
   ]
  },
  {
   "cell_type": "code",
   "execution_count": 77,
   "metadata": {},
   "outputs": [
    {
     "data": {
      "text/plain": [
       "0"
      ]
     },
     "execution_count": 77,
     "metadata": {},
     "output_type": "execute_result"
    }
   ],
   "source": [
    "df.duplicated().sum()"
   ]
  },
  {
   "cell_type": "code",
   "execution_count": 78,
   "metadata": {},
   "outputs": [
    {
     "name": "stdout",
     "output_type": "stream",
     "text": [
      "<class 'pandas.core.frame.DataFrame'>\n",
      "RangeIndex: 1427472 entries, 0 to 1427471\n",
      "Data columns (total 7 columns):\n",
      " #   Column                Non-Null Count    Dtype \n",
      "---  ------                --------------    ----- \n",
      " 0   session_id            1427472 non-null  int64 \n",
      " 1   user_id               1427472 non-null  int64 \n",
      " 2   session_datetime      1427472 non-null  object\n",
      " 3   device                1427472 non-null  object\n",
      " 4   marketing_channel_1   1427472 non-null  object\n",
      " 5   marketing_channel_2   1427472 non-null  object\n",
      " 6   session_with_booking  1427472 non-null  int64 \n",
      "dtypes: int64(3), object(4)\n",
      "memory usage: 76.2+ MB\n"
     ]
    }
   ],
   "source": [
    "df.info()"
   ]
  },
  {
   "cell_type": "code",
   "execution_count": 79,
   "metadata": {},
   "outputs": [
    {
     "data": {
      "text/plain": [
       "0          2017-01-01 00:07:33\n",
       "1          2017-01-01 00:19:26\n",
       "2          2017-01-01 00:25:53\n",
       "3          2017-01-01 00:38:13\n",
       "4          2017-01-01 00:38:32\n",
       "                  ...         \n",
       "1427467    2017-06-30 23:56:55\n",
       "1427468    2017-06-30 23:57:29\n",
       "1427469    2017-06-30 23:57:47\n",
       "1427470    2017-06-30 23:59:23\n",
       "1427471    2017-06-30 23:59:24\n",
       "Name: session_date_day_hour, Length: 1427472, dtype: object"
      ]
     },
     "execution_count": 79,
     "metadata": {},
     "output_type": "execute_result"
    }
   ],
   "source": [
    "#Добавляем колонку с датой  без +3\n",
    "df['session_date_day_hour']  = [i.split('+')[0] for i in df['session_datetime']]\n",
    "df['session_date_day_hour']"
   ]
  },
  {
   "cell_type": "code",
   "execution_count": 80,
   "metadata": {},
   "outputs": [],
   "source": [
    "#Добавляем колонки с датой по дням\n",
    "df['session_date_day'] = [i.split(' ')[0] for i in df['session_date_day_hour']]"
   ]
  },
  {
   "cell_type": "code",
   "execution_count": 81,
   "metadata": {},
   "outputs": [],
   "source": [
    "#Переводим колонки в формат даты \n",
    "df['session_date_day_hour'] = pd.to_datetime(df['session_date_day_hour'])\n",
    "df['session_date_day'] = pd.to_datetime(df['session_date_day'])"
   ]
  },
  {
   "cell_type": "code",
   "execution_count": 82,
   "metadata": {},
   "outputs": [
    {
     "data": {
      "text/plain": [
       "<AxesSubplot:xlabel='month', ylabel='session_with_booking'>"
      ]
     },
     "execution_count": 82,
     "metadata": {},
     "output_type": "execute_result"
    },
    {
     "data": {
      "image/png": "[encoded data removed]",
      "text/plain": [
       "<Figure size 842.4x595.44 with 1 Axes>"
      ]
     },
     "metadata": {},
     "output_type": "display_data"
    }
   ],
   "source": [
    "#Посмотрим динамику по месяцам\n",
    "# Создаем колонку month\n",
    "\n",
    "df['month'] = df['session_date_day'].dt.month\n",
    "df_month = df.groupby('month', as_index = False).agg({'session_id': 'count', 'session_with_booking':'sum'})\n",
    "sns.lineplot (data = df_month, x = 'month', y = 'session_with_booking')\n",
    "# Как видно из графика месяц с наибольшим числом бронирований - Март"
   ]
  },
  {
   "cell_type": "code",
   "execution_count": 83,
   "metadata": {},
   "outputs": [
    {
     "data": {
      "text/plain": [
       "<AxesSubplot:xlabel='month', ylabel='session_id'>"
      ]
     },
     "execution_count": 83,
     "metadata": {},
     "output_type": "execute_result"
    },
    {
     "data": {
      "image/png": "[encoded data removed]",
      "text/plain": [
       "<Figure size 842.4x595.44 with 1 Axes>"
      ]
     },
     "metadata": {},
     "output_type": "display_data"
    }
   ],
   "source": [
    "sns.lineplot (data = df_month, x = 'month', y = 'session_id')\n",
    "#Разбивка по числу всех сессий напротив, показывает сильный рост интереса Май - Июнь, но не означает увеличение конверсии в бронь\n",
    "# Возможно такая динамика получилась из-за увеличения активности одного из каналов\n"
   ]
  },
  {
   "cell_type": "code",
   "execution_count": 84,
   "metadata": {},
   "outputs": [
    {
     "data": {
      "text/plain": [
       "<AxesSubplot:xlabel='month', ylabel='session_id'>"
      ]
     },
     "execution_count": 84,
     "metadata": {},
     "output_type": "execute_result"
    },
    {
     "data": {
      "image/png": "[encoded data removed]",
      "text/plain": [
       "<Figure size 842.4x595.44 with 1 Axes>"
      ]
     },
     "metadata": {},
     "output_type": "display_data"
    }
   ],
   "source": [
    "# Попробуем исключить \"sem\"  канал из выборки\n",
    "df_month = df.query('marketing_channel_2 != \"sem\"').groupby('month', as_index = False).agg({'session_id': 'count', 'session_with_booking':'sum'})\n",
    "sns.lineplot (data = df_month, x = 'month', y = 'session_id')\n",
    "# В целом динамика схожа, но просадка в апреле больше "
   ]
  },
  {
   "cell_type": "code",
   "execution_count": 85,
   "metadata": {},
   "outputs": [
    {
     "data": {
      "text/plain": [
       "<AxesSubplot:xlabel='weekday', ylabel='session_with_booking'>"
      ]
     },
     "execution_count": 85,
     "metadata": {},
     "output_type": "execute_result"
    },
    {
     "data": {
      "image/png": "[encoded data removed]",
      "text/plain": [
       "<Figure size 842.4x595.44 with 1 Axes>"
      ]
     },
     "metadata": {},
     "output_type": "display_data"
    }
   ],
   "source": [
    "#Проверим , как соотносятся дни недели с кол-ом бронирования\n",
    "# Создаем колонку с днями недели\n",
    "df['weekday'] = df['session_date_day'].dt.weekday\n",
    "\n",
    "#Группируем по дням недели и аггрегируем по числу сессий и сумме сессий с бронированием\n",
    "df_day_week = df.groupby('weekday', as_index = False).agg({'session_id': 'count', 'session_with_booking':'sum'})\n",
    "sns.lineplot (data = df_day_week, x = 'weekday', y = 'session_with_booking')\n",
    "\n",
    "# Очевидно, что пик бронирования приходится на первые три дня недели (Среда  - пик) "
   ]
  },
  {
   "cell_type": "code",
   "execution_count": 86,
   "metadata": {},
   "outputs": [
    {
     "data": {
      "text/plain": [
       "<AxesSubplot:xlabel='weekday', ylabel='session_id'>"
      ]
     },
     "execution_count": 86,
     "metadata": {},
     "output_type": "execute_result"
    },
    {
     "data": {
      "image/png": "[encoded data removed]",
      "text/plain": [
       "<Figure size 842.4x595.44 with 1 Axes>"
      ]
     },
     "metadata": {},
     "output_type": "display_data"
    }
   ],
   "source": [
    "# Разбивка по  всем сессиям, в целом, также корреллирует,  первые два дня недели наиболее активные\n",
    "sns.lineplot (data = df_day_week, x = 'weekday', y = 'session_id')"
   ]
  },
  {
   "cell_type": "code",
   "execution_count": 87,
   "metadata": {},
   "outputs": [
    {
     "data": {
      "text/html": [
       "<div>\n",
       "<style scoped>\n",
       "    .dataframe tbody tr th:only-of-type {\n",
       "        vertical-align: middle;\n",
       "    }\n",
       "\n",
       "    .dataframe tbody tr th {\n",
       "        vertical-align: top;\n",
       "    }\n",
       "\n",
       "    .dataframe thead th {\n",
       "        text-align: right;\n",
       "    }\n",
       "</style>\n",
       "<table border=\"1\" class=\"dataframe\">\n",
       "  <thead>\n",
       "    <tr style=\"text-align: right;\">\n",
       "      <th></th>\n",
       "      <th>month</th>\n",
       "      <th>marketing_channel_2</th>\n",
       "      <th>session_with_booking</th>\n",
       "    </tr>\n",
       "  </thead>\n",
       "  <tbody>\n",
       "    <tr>\n",
       "      <th>8</th>\n",
       "      <td>1</td>\n",
       "      <td>type-in</td>\n",
       "      <td>1115</td>\n",
       "    </tr>\n",
       "    <tr>\n",
       "      <th>9</th>\n",
       "      <td>1</td>\n",
       "      <td>vital</td>\n",
       "      <td>724</td>\n",
       "    </tr>\n",
       "    <tr>\n",
       "      <th>2</th>\n",
       "      <td>1</td>\n",
       "      <td>gotravelunl</td>\n",
       "      <td>263</td>\n",
       "    </tr>\n",
       "    <tr>\n",
       "      <th>1</th>\n",
       "      <td>1</td>\n",
       "      <td>email</td>\n",
       "      <td>207</td>\n",
       "    </tr>\n",
       "    <tr>\n",
       "      <th>3</th>\n",
       "      <td>1</td>\n",
       "      <td>hc</td>\n",
       "      <td>175</td>\n",
       "    </tr>\n",
       "    <tr>\n",
       "      <th>...</th>\n",
       "      <td>...</td>\n",
       "      <td>...</td>\n",
       "      <td>...</td>\n",
       "    </tr>\n",
       "    <tr>\n",
       "      <th>60</th>\n",
       "      <td>6</td>\n",
       "      <td>sem</td>\n",
       "      <td>113</td>\n",
       "    </tr>\n",
       "    <tr>\n",
       "      <th>55</th>\n",
       "      <td>6</td>\n",
       "      <td>cpa-affiliate</td>\n",
       "      <td>106</td>\n",
       "    </tr>\n",
       "    <tr>\n",
       "      <th>65</th>\n",
       "      <td>6</td>\n",
       "      <td>yandex</td>\n",
       "      <td>62</td>\n",
       "    </tr>\n",
       "    <tr>\n",
       "      <th>59</th>\n",
       "      <td>6</td>\n",
       "      <td>retargeting</td>\n",
       "      <td>4</td>\n",
       "    </tr>\n",
       "    <tr>\n",
       "      <th>61</th>\n",
       "      <td>6</td>\n",
       "      <td>smm</td>\n",
       "      <td>2</td>\n",
       "    </tr>\n",
       "  </tbody>\n",
       "</table>\n",
       "<p>66 rows × 3 columns</p>\n",
       "</div>"
      ],
      "text/plain": [
       "    month marketing_channel_2  session_with_booking\n",
       "8       1             type-in                  1115\n",
       "9       1               vital                   724\n",
       "2       1         gotravelunl                   263\n",
       "1       1               email                   207\n",
       "3       1                  hc                   175\n",
       "..    ...                 ...                   ...\n",
       "60      6                 sem                   113\n",
       "55      6       cpa-affiliate                   106\n",
       "65      6              yandex                    62\n",
       "59      6         retargeting                     4\n",
       "61      6                 smm                     2\n",
       "\n",
       "[66 rows x 3 columns]"
      ]
     },
     "execution_count": 87,
     "metadata": {},
     "output_type": "execute_result"
    }
   ],
   "source": [
    "#Определяем сколько сессий с конверсией было по каждому каналу  с учетом даты\n",
    "df_session = df.groupby(['month', 'marketing_channel_2'], as_index = False) \\\n",
    "    .agg({'session_with_booking':'sum'}) \\\n",
    ".sort_values(['month', 'session_with_booking'] , ascending = [True, False] )\n",
    "df_session"
   ]
  },
  {
   "cell_type": "code",
   "execution_count": 88,
   "metadata": {},
   "outputs": [
    {
     "data": {
      "text/plain": [
       "<AxesSubplot:xlabel='marketing_channel_1', ylabel='session_id'>"
      ]
     },
     "execution_count": 88,
     "metadata": {},
     "output_type": "execute_result"
    },
    {
     "data": {
      "image/png": "[encoded data removed]",
      "text/plain": [
       "<Figure size 842.4x595.44 with 1 Axes>"
      ]
     },
     "metadata": {},
     "output_type": "display_data"
    }
   ],
   "source": [
    "# По числу сессий лидируют каналы CPC \n",
    "df_group_channel_1 = df.groupby('marketing_channel_1', as_index = False).agg({'session_id':'count'})\n",
    "df_group_channel_1 \n",
    "sns.barplot(data = df_group_channel_1, x = 'marketing_channel_1', y = 'session_id'  )"
   ]
  },
  {
   "cell_type": "code",
   "execution_count": 89,
   "metadata": {},
   "outputs": [
    {
     "data": {
      "text/plain": [
       "<AxesSubplot:xlabel='marketing_channel_1', ylabel='session_with_booking'>"
      ]
     },
     "execution_count": 89,
     "metadata": {},
     "output_type": "execute_result"
    },
    {
     "data": {
      "image/png": "[encoded data removed]",
      "text/plain": [
       "<Figure size 842.4x595.44 with 1 Axes>"
      ]
     },
     "metadata": {},
     "output_type": "display_data"
    }
   ],
   "source": [
    "#В тоже время если смотреть на сессии с бронированием , лучшими являются  brand  и metasearch\n",
    "df_group_channel_1 = df.groupby('marketing_channel_1', as_index = False).agg({'session_with_booking':'sum'})\n",
    "df_group_channel_1 \n",
    "sns.barplot(data = df_group_channel_1, x = 'marketing_channel_1', y = 'session_with_booking'  )"
   ]
  },
  {
   "cell_type": "code",
   "execution_count": 90,
   "metadata": {},
   "outputs": [
    {
     "data": {
      "text/plain": [
       "<AxesSubplot:xlabel='marketing_channel_2', ylabel='session_with_booking'>"
      ]
     },
     "execution_count": 90,
     "metadata": {},
     "output_type": "execute_result"
    },
    {
     "data": {
      "image/png": "[encoded data removed]",
      "text/plain": [
       "<Figure size 842.4x595.44 with 1 Axes>"
      ]
     },
     "metadata": {},
     "output_type": "display_data"
    }
   ],
   "source": [
    "#Определяем сколько сессий с конверсией было по каждому каналу  в общем\n",
    "df_group_channel_2 = df_session.groupby('marketing_channel_2', as_index = False).agg({'session_with_booking':'sum'})\n",
    "df_group_channel_2 \n",
    "sns.barplot(data = df_group_channel_2, x = 'marketing_channel_2', y = 'session_with_booking')"
   ]
  },
  {
   "cell_type": "code",
   "execution_count": 91,
   "metadata": {},
   "outputs": [],
   "source": [
    "# Добавляем колонку конверсия с разбивкой по каналам и девайсам \n",
    "df_marketing_channel = df.groupby(['marketing_channel_1',  'marketing_channel_2','device']).agg({'session_id':'count', 'session_with_booking':'sum'})\n",
    "df_marketing_channel['CR'] = round(df_marketing_channel['session_with_booking'] / df_marketing_channel['session_id']*100, 2)\n",
    "df_marketing_channel = df_marketing_channel.sort_values(['CR', 'session_with_booking'], ascending = [False, False]).reset_index()\n"
   ]
  },
  {
   "cell_type": "code",
   "execution_count": 92,
   "metadata": {},
   "outputs": [
    {
     "name": "stderr",
     "output_type": "stream",
     "text": [
      "/Users/nikita/opt/anaconda3/lib/python3.9/site-packages/abc_analysis/abc_analysis.py:163: FutureWarning: The series.append method is deprecated and will be removed from pandas in a future version. Use pandas.concat instead.\n",
      "  y = pd.Series([0]).append(y)\n",
      "/Users/nikita/opt/anaconda3/lib/python3.9/site-packages/abc_analysis/abc_analysis.py:164: FutureWarning: The series.append method is deprecated and will be removed from pandas in a future version. Use pandas.concat instead.\n",
      "  x = pd.Series([0]).append(x)\n"
     ]
    },
    {
     "data": {
      "text/html": [
       "<div>\n",
       "<style scoped>\n",
       "    .dataframe tbody tr th:only-of-type {\n",
       "        vertical-align: middle;\n",
       "    }\n",
       "\n",
       "    .dataframe tbody tr th {\n",
       "        vertical-align: top;\n",
       "    }\n",
       "\n",
       "    .dataframe thead th {\n",
       "        text-align: right;\n",
       "    }\n",
       "</style>\n",
       "<table border=\"1\" class=\"dataframe\">\n",
       "  <thead>\n",
       "    <tr style=\"text-align: right;\">\n",
       "      <th></th>\n",
       "      <th>marketing_channel_1</th>\n",
       "      <th>marketing_channel_2</th>\n",
       "      <th>device</th>\n",
       "      <th>session_id</th>\n",
       "      <th>session_with_booking</th>\n",
       "      <th>CR</th>\n",
       "      <th>abc</th>\n",
       "    </tr>\n",
       "  </thead>\n",
       "  <tbody>\n",
       "    <tr>\n",
       "      <th>0</th>\n",
       "      <td>metasearch</td>\n",
       "      <td>gotravelunl</td>\n",
       "      <td>mobile</td>\n",
       "      <td>11852</td>\n",
       "      <td>1138</td>\n",
       "      <td>9.60</td>\n",
       "      <td>A</td>\n",
       "    </tr>\n",
       "    <tr>\n",
       "      <th>1</th>\n",
       "      <td>brand</td>\n",
       "      <td>vital</td>\n",
       "      <td>pc</td>\n",
       "      <td>81007</td>\n",
       "      <td>4574</td>\n",
       "      <td>5.65</td>\n",
       "      <td>A</td>\n",
       "    </tr>\n",
       "    <tr>\n",
       "      <th>2</th>\n",
       "      <td>metasearch</td>\n",
       "      <td>gotravelunl</td>\n",
       "      <td>pc</td>\n",
       "      <td>7759</td>\n",
       "      <td>414</td>\n",
       "      <td>5.34</td>\n",
       "      <td>C</td>\n",
       "    </tr>\n",
       "    <tr>\n",
       "      <th>3</th>\n",
       "      <td>metasearch</td>\n",
       "      <td>gotravelunl</td>\n",
       "      <td>tablet</td>\n",
       "      <td>1541</td>\n",
       "      <td>79</td>\n",
       "      <td>5.13</td>\n",
       "      <td>C</td>\n",
       "    </tr>\n",
       "    <tr>\n",
       "      <th>4</th>\n",
       "      <td>brand</td>\n",
       "      <td>email</td>\n",
       "      <td>pc</td>\n",
       "      <td>39239</td>\n",
       "      <td>1122</td>\n",
       "      <td>2.86</td>\n",
       "      <td>A</td>\n",
       "    </tr>\n",
       "    <tr>\n",
       "      <th>5</th>\n",
       "      <td>brand</td>\n",
       "      <td>type-in</td>\n",
       "      <td>mobile</td>\n",
       "      <td>164514</td>\n",
       "      <td>4351</td>\n",
       "      <td>2.64</td>\n",
       "      <td>A</td>\n",
       "    </tr>\n",
       "    <tr>\n",
       "      <th>6</th>\n",
       "      <td>brand</td>\n",
       "      <td>vital</td>\n",
       "      <td>tablet</td>\n",
       "      <td>6485</td>\n",
       "      <td>161</td>\n",
       "      <td>2.48</td>\n",
       "      <td>C</td>\n",
       "    </tr>\n",
       "    <tr>\n",
       "      <th>7</th>\n",
       "      <td>metasearch</td>\n",
       "      <td>hc</td>\n",
       "      <td>pc</td>\n",
       "      <td>36608</td>\n",
       "      <td>782</td>\n",
       "      <td>2.14</td>\n",
       "      <td>B</td>\n",
       "    </tr>\n",
       "    <tr>\n",
       "      <th>9</th>\n",
       "      <td>brand</td>\n",
       "      <td>vital</td>\n",
       "      <td>mobile</td>\n",
       "      <td>23165</td>\n",
       "      <td>451</td>\n",
       "      <td>1.95</td>\n",
       "      <td>B</td>\n",
       "    </tr>\n",
       "    <tr>\n",
       "      <th>8</th>\n",
       "      <td>brand</td>\n",
       "      <td>type-in</td>\n",
       "      <td>pc</td>\n",
       "      <td>178719</td>\n",
       "      <td>3486</td>\n",
       "      <td>1.95</td>\n",
       "      <td>A</td>\n",
       "    </tr>\n",
       "    <tr>\n",
       "      <th>10</th>\n",
       "      <td>brand</td>\n",
       "      <td>type-in</td>\n",
       "      <td>tablet</td>\n",
       "      <td>17401</td>\n",
       "      <td>319</td>\n",
       "      <td>1.83</td>\n",
       "      <td>C</td>\n",
       "    </tr>\n",
       "    <tr>\n",
       "      <th>11</th>\n",
       "      <td>metasearch</td>\n",
       "      <td>hc</td>\n",
       "      <td>mobile</td>\n",
       "      <td>19108</td>\n",
       "      <td>315</td>\n",
       "      <td>1.65</td>\n",
       "      <td>C</td>\n",
       "    </tr>\n",
       "    <tr>\n",
       "      <th>12</th>\n",
       "      <td>partners</td>\n",
       "      <td>cpa-affiliate</td>\n",
       "      <td>pc</td>\n",
       "      <td>32877</td>\n",
       "      <td>518</td>\n",
       "      <td>1.58</td>\n",
       "      <td>B</td>\n",
       "    </tr>\n",
       "    <tr>\n",
       "      <th>13</th>\n",
       "      <td>metasearch</td>\n",
       "      <td>hc</td>\n",
       "      <td>tablet</td>\n",
       "      <td>4333</td>\n",
       "      <td>64</td>\n",
       "      <td>1.48</td>\n",
       "      <td>C</td>\n",
       "    </tr>\n",
       "    <tr>\n",
       "      <th>14</th>\n",
       "      <td>brand</td>\n",
       "      <td>email</td>\n",
       "      <td>tablet</td>\n",
       "      <td>3543</td>\n",
       "      <td>46</td>\n",
       "      <td>1.30</td>\n",
       "      <td>C</td>\n",
       "    </tr>\n",
       "    <tr>\n",
       "      <th>15</th>\n",
       "      <td>metasearch</td>\n",
       "      <td>trivago</td>\n",
       "      <td>pc</td>\n",
       "      <td>47160</td>\n",
       "      <td>565</td>\n",
       "      <td>1.20</td>\n",
       "      <td>B</td>\n",
       "    </tr>\n",
       "    <tr>\n",
       "      <th>16</th>\n",
       "      <td>brand</td>\n",
       "      <td>email</td>\n",
       "      <td>mobile</td>\n",
       "      <td>25526</td>\n",
       "      <td>165</td>\n",
       "      <td>0.65</td>\n",
       "      <td>C</td>\n",
       "    </tr>\n",
       "    <tr>\n",
       "      <th>17</th>\n",
       "      <td>metasearch</td>\n",
       "      <td>trivago</td>\n",
       "      <td>tablet</td>\n",
       "      <td>7235</td>\n",
       "      <td>45</td>\n",
       "      <td>0.62</td>\n",
       "      <td>C</td>\n",
       "    </tr>\n",
       "    <tr>\n",
       "      <th>18</th>\n",
       "      <td>cpc</td>\n",
       "      <td>retargeting</td>\n",
       "      <td>pc</td>\n",
       "      <td>1143</td>\n",
       "      <td>7</td>\n",
       "      <td>0.61</td>\n",
       "      <td>C</td>\n",
       "    </tr>\n",
       "    <tr>\n",
       "      <th>19</th>\n",
       "      <td>seo</td>\n",
       "      <td>yandex</td>\n",
       "      <td>pc</td>\n",
       "      <td>51949</td>\n",
       "      <td>271</td>\n",
       "      <td>0.52</td>\n",
       "      <td>C</td>\n",
       "    </tr>\n",
       "    <tr>\n",
       "      <th>20</th>\n",
       "      <td>metasearch</td>\n",
       "      <td>trivago</td>\n",
       "      <td>mobile</td>\n",
       "      <td>39685</td>\n",
       "      <td>200</td>\n",
       "      <td>0.50</td>\n",
       "      <td>C</td>\n",
       "    </tr>\n",
       "    <tr>\n",
       "      <th>21</th>\n",
       "      <td>partners</td>\n",
       "      <td>cpa-affiliate</td>\n",
       "      <td>tablet</td>\n",
       "      <td>3217</td>\n",
       "      <td>14</td>\n",
       "      <td>0.44</td>\n",
       "      <td>C</td>\n",
       "    </tr>\n",
       "    <tr>\n",
       "      <th>22</th>\n",
       "      <td>seo</td>\n",
       "      <td>yandex</td>\n",
       "      <td>tablet</td>\n",
       "      <td>6825</td>\n",
       "      <td>27</td>\n",
       "      <td>0.40</td>\n",
       "      <td>C</td>\n",
       "    </tr>\n",
       "    <tr>\n",
       "      <th>23</th>\n",
       "      <td>seo</td>\n",
       "      <td>yandex</td>\n",
       "      <td>mobile</td>\n",
       "      <td>20154</td>\n",
       "      <td>64</td>\n",
       "      <td>0.32</td>\n",
       "      <td>C</td>\n",
       "    </tr>\n",
       "    <tr>\n",
       "      <th>24</th>\n",
       "      <td>partners</td>\n",
       "      <td>cpa-affiliate</td>\n",
       "      <td>mobile</td>\n",
       "      <td>17472</td>\n",
       "      <td>49</td>\n",
       "      <td>0.28</td>\n",
       "      <td>C</td>\n",
       "    </tr>\n",
       "    <tr>\n",
       "      <th>25</th>\n",
       "      <td>brand</td>\n",
       "      <td>smm</td>\n",
       "      <td>pc</td>\n",
       "      <td>3881</td>\n",
       "      <td>11</td>\n",
       "      <td>0.28</td>\n",
       "      <td>C</td>\n",
       "    </tr>\n",
       "    <tr>\n",
       "      <th>26</th>\n",
       "      <td>brand</td>\n",
       "      <td>smm</td>\n",
       "      <td>mobile</td>\n",
       "      <td>2014</td>\n",
       "      <td>5</td>\n",
       "      <td>0.25</td>\n",
       "      <td>C</td>\n",
       "    </tr>\n",
       "    <tr>\n",
       "      <th>27</th>\n",
       "      <td>cpc</td>\n",
       "      <td>sem</td>\n",
       "      <td>pc</td>\n",
       "      <td>446103</td>\n",
       "      <td>531</td>\n",
       "      <td>0.12</td>\n",
       "      <td>B</td>\n",
       "    </tr>\n",
       "    <tr>\n",
       "      <th>28</th>\n",
       "      <td>cpc</td>\n",
       "      <td>sem</td>\n",
       "      <td>mobile</td>\n",
       "      <td>75959</td>\n",
       "      <td>45</td>\n",
       "      <td>0.06</td>\n",
       "      <td>C</td>\n",
       "    </tr>\n",
       "    <tr>\n",
       "      <th>29</th>\n",
       "      <td>cpc</td>\n",
       "      <td>sem</td>\n",
       "      <td>tablet</td>\n",
       "      <td>48930</td>\n",
       "      <td>31</td>\n",
       "      <td>0.06</td>\n",
       "      <td>C</td>\n",
       "    </tr>\n",
       "    <tr>\n",
       "      <th>30</th>\n",
       "      <td>cpc</td>\n",
       "      <td>retargeting</td>\n",
       "      <td>mobile</td>\n",
       "      <td>1594</td>\n",
       "      <td>1</td>\n",
       "      <td>0.06</td>\n",
       "      <td>C</td>\n",
       "    </tr>\n",
       "    <tr>\n",
       "      <th>31</th>\n",
       "      <td>brand</td>\n",
       "      <td>smm</td>\n",
       "      <td>tablet</td>\n",
       "      <td>134</td>\n",
       "      <td>0</td>\n",
       "      <td>0.00</td>\n",
       "      <td>C</td>\n",
       "    </tr>\n",
       "    <tr>\n",
       "      <th>32</th>\n",
       "      <td>cpc</td>\n",
       "      <td>retargeting</td>\n",
       "      <td>tablet</td>\n",
       "      <td>299</td>\n",
       "      <td>0</td>\n",
       "      <td>0.00</td>\n",
       "      <td>C</td>\n",
       "    </tr>\n",
       "    <tr>\n",
       "      <th>33</th>\n",
       "      <td>metasearch</td>\n",
       "      <td>yandex</td>\n",
       "      <td>mobile</td>\n",
       "      <td>6</td>\n",
       "      <td>0</td>\n",
       "      <td>0.00</td>\n",
       "      <td>C</td>\n",
       "    </tr>\n",
       "    <tr>\n",
       "      <th>34</th>\n",
       "      <td>metasearch</td>\n",
       "      <td>yandex</td>\n",
       "      <td>pc</td>\n",
       "      <td>35</td>\n",
       "      <td>0</td>\n",
       "      <td>0.00</td>\n",
       "      <td>C</td>\n",
       "    </tr>\n",
       "  </tbody>\n",
       "</table>\n",
       "</div>"
      ],
      "text/plain": [
       "   marketing_channel_1 marketing_channel_2  device  session_id  \\\n",
       "0           metasearch         gotravelunl  mobile       11852   \n",
       "1                brand               vital      pc       81007   \n",
       "2           metasearch         gotravelunl      pc        7759   \n",
       "3           metasearch         gotravelunl  tablet        1541   \n",
       "4                brand               email      pc       39239   \n",
       "5                brand             type-in  mobile      164514   \n",
       "6                brand               vital  tablet        6485   \n",
       "7           metasearch                  hc      pc       36608   \n",
       "9                brand               vital  mobile       23165   \n",
       "8                brand             type-in      pc      178719   \n",
       "10               brand             type-in  tablet       17401   \n",
       "11          metasearch                  hc  mobile       19108   \n",
       "12            partners       cpa-affiliate      pc       32877   \n",
       "13          metasearch                  hc  tablet        4333   \n",
       "14               brand               email  tablet        3543   \n",
       "15          metasearch             trivago      pc       47160   \n",
       "16               brand               email  mobile       25526   \n",
       "17          metasearch             trivago  tablet        7235   \n",
       "18                 cpc         retargeting      pc        1143   \n",
       "19                 seo              yandex      pc       51949   \n",
       "20          metasearch             trivago  mobile       39685   \n",
       "21            partners       cpa-affiliate  tablet        3217   \n",
       "22                 seo              yandex  tablet        6825   \n",
       "23                 seo              yandex  mobile       20154   \n",
       "24            partners       cpa-affiliate  mobile       17472   \n",
       "25               brand                 smm      pc        3881   \n",
       "26               brand                 smm  mobile        2014   \n",
       "27                 cpc                 sem      pc      446103   \n",
       "28                 cpc                 sem  mobile       75959   \n",
       "29                 cpc                 sem  tablet       48930   \n",
       "30                 cpc         retargeting  mobile        1594   \n",
       "31               brand                 smm  tablet         134   \n",
       "32                 cpc         retargeting  tablet         299   \n",
       "33          metasearch              yandex  mobile           6   \n",
       "34          metasearch              yandex      pc          35   \n",
       "\n",
       "    session_with_booking    CR abc  \n",
       "0                   1138  9.60   A  \n",
       "1                   4574  5.65   A  \n",
       "2                    414  5.34   C  \n",
       "3                     79  5.13   C  \n",
       "4                   1122  2.86   A  \n",
       "5                   4351  2.64   A  \n",
       "6                    161  2.48   C  \n",
       "7                    782  2.14   B  \n",
       "9                    451  1.95   B  \n",
       "8                   3486  1.95   A  \n",
       "10                   319  1.83   C  \n",
       "11                   315  1.65   C  \n",
       "12                   518  1.58   B  \n",
       "13                    64  1.48   C  \n",
       "14                    46  1.30   C  \n",
       "15                   565  1.20   B  \n",
       "16                   165  0.65   C  \n",
       "17                    45  0.62   C  \n",
       "18                     7  0.61   C  \n",
       "19                   271  0.52   C  \n",
       "20                   200  0.50   C  \n",
       "21                    14  0.44   C  \n",
       "22                    27  0.40   C  \n",
       "23                    64  0.32   C  \n",
       "24                    49  0.28   C  \n",
       "25                    11  0.28   C  \n",
       "26                     5  0.25   C  \n",
       "27                   531  0.12   B  \n",
       "28                    45  0.06   C  \n",
       "29                    31  0.06   C  \n",
       "30                     1  0.06   C  \n",
       "31                     0  0.00   C  \n",
       "32                     0  0.00   C  \n",
       "33                     0  0.00   C  \n",
       "34                     0  0.00   C  "
      ]
     },
     "execution_count": 92,
     "metadata": {},
     "output_type": "execute_result"
    }
   ],
   "source": [
    "#Добавляем колонку с ABC анализом  (session_with_booking)\n",
    "\n",
    "abc = abc_analysis(df_marketing_channel['session_with_booking'])\n",
    "abc\n",
    "\n",
    "#Позиция CR\n",
    "a_index = abc['Aind']\n",
    "b_index = abc['Bind']\n",
    "c_index = abc['Cind']\n",
    "\n",
    "#Новая колонка с индексом\n",
    "cond_list = [df_marketing_channel.index.isin(a_index),\n",
    "            df_marketing_channel.index.isin(b_index),\n",
    "            df_marketing_channel.index.isin(c_index)]\n",
    "\n",
    "choice_list = ['A', 'B', 'C']\n",
    "\n",
    "df_marketing_channel['abc'] = np.select(cond_list, choice_list)\n",
    "df_marketing_channel.sort_values(by = ['CR'], ascending = False)\n",
    "# К сожалению мы не знаем сколько было потрачено на каждый канал, по этому основные критериями будут CR and session_with_booking\n",
    "#  Можно сделать следующие выводы: Несмотря на меньшие объемы чем brand,  metasearch  имеет хорошую конверсию,\n",
    "#   в частности gotravelunl mobile \n",
    "# Из брендовых каналов стоит выделить type-in и vital\n",
    "# CPC и SEO - наименее эффективные методы\n",
    "\n"
   ]
  },
  {
   "cell_type": "code",
   "execution_count": 93,
   "metadata": {},
   "outputs": [
    {
     "data": {
      "text/plain": [
       "<AxesSubplot:xlabel='marketing_channel_2', ylabel='CR'>"
      ]
     },
     "execution_count": 93,
     "metadata": {},
     "output_type": "execute_result"
    },
    {
     "data": {
      "image/png": "[encoded data removed]",
      "text/plain": [
       "<Figure size 842.4x595.44 with 1 Axes>"
      ]
     },
     "metadata": {},
     "output_type": "display_data"
    }
   ],
   "source": [
    "# График для более четкого понимания\n",
    "sns.barplot(data = df_marketing_channel, x = 'marketing_channel_2', y = 'CR')"
   ]
  },
  {
   "cell_type": "code",
   "execution_count": 94,
   "metadata": {},
   "outputs": [
    {
     "data": {
      "text/html": [
       "<div>\n",
       "<style scoped>\n",
       "    .dataframe tbody tr th:only-of-type {\n",
       "        vertical-align: middle;\n",
       "    }\n",
       "\n",
       "    .dataframe tbody tr th {\n",
       "        vertical-align: top;\n",
       "    }\n",
       "\n",
       "    .dataframe thead th {\n",
       "        text-align: right;\n",
       "    }\n",
       "</style>\n",
       "<table border=\"1\" class=\"dataframe\">\n",
       "  <thead>\n",
       "    <tr style=\"text-align: right;\">\n",
       "      <th></th>\n",
       "      <th>marketing_channel_1</th>\n",
       "      <th>marketing_channel_2</th>\n",
       "      <th>session_with_booking</th>\n",
       "    </tr>\n",
       "  </thead>\n",
       "  <tbody>\n",
       "    <tr>\n",
       "      <th>0</th>\n",
       "      <td>brand</td>\n",
       "      <td>email</td>\n",
       "      <td>4</td>\n",
       "    </tr>\n",
       "    <tr>\n",
       "      <th>1</th>\n",
       "      <td>brand</td>\n",
       "      <td>vital</td>\n",
       "      <td>19</td>\n",
       "    </tr>\n",
       "    <tr>\n",
       "      <th>2</th>\n",
       "      <td>cpc</td>\n",
       "      <td>sem</td>\n",
       "      <td>65</td>\n",
       "    </tr>\n",
       "    <tr>\n",
       "      <th>3</th>\n",
       "      <td>metasearch</td>\n",
       "      <td>gotravelunl</td>\n",
       "      <td>2</td>\n",
       "    </tr>\n",
       "    <tr>\n",
       "      <th>4</th>\n",
       "      <td>metasearch</td>\n",
       "      <td>hc</td>\n",
       "      <td>3</td>\n",
       "    </tr>\n",
       "    <tr>\n",
       "      <th>5</th>\n",
       "      <td>metasearch</td>\n",
       "      <td>trivago</td>\n",
       "      <td>2</td>\n",
       "    </tr>\n",
       "    <tr>\n",
       "      <th>6</th>\n",
       "      <td>partners</td>\n",
       "      <td>cpa-affiliate</td>\n",
       "      <td>1</td>\n",
       "    </tr>\n",
       "    <tr>\n",
       "      <th>7</th>\n",
       "      <td>seo</td>\n",
       "      <td>yandex</td>\n",
       "      <td>1</td>\n",
       "    </tr>\n",
       "  </tbody>\n",
       "</table>\n",
       "</div>"
      ],
      "text/plain": [
       "  marketing_channel_1 marketing_channel_2  session_with_booking\n",
       "0               brand               email                     4\n",
       "1               brand               vital                    19\n",
       "2                 cpc                 sem                    65\n",
       "3          metasearch         gotravelunl                     2\n",
       "4          metasearch                  hc                     3\n",
       "5          metasearch             trivago                     2\n",
       "6            partners       cpa-affiliate                     1\n",
       "7                 seo              yandex                     1"
      ]
     },
     "execution_count": 94,
     "metadata": {},
     "output_type": "execute_result"
    }
   ],
   "source": [
    "#проверим данные на наличие аномалий\n",
    "#Предположим, что в один session_datetime может быть только одна session_with_booking\n",
    "df_session = df.groupby(['session_datetime', 'user_id', 'marketing_channel_1','marketing_channel_2'], as_index = False) \\\n",
    "    .agg({'session_with_booking':'count'}) \\\n",
    ".sort_values('session_with_booking' , ascending = False )\n",
    "\n",
    "# Группировка по каналам, где сессий/конверсий в одно и тоже время было больше 1 \n",
    "df_session.query('session_with_booking > 1') \\\n",
    "    .groupby(['marketing_channel_1', 'marketing_channel_2'], as_index = False) \\\n",
    "        .agg({'session_with_booking':'count'})\n",
    "# Возможно, что такое кол-во  сессий было агрегировано системой с ошибкой,  наибольшее число в канале sem"
   ]
  },
  {
   "cell_type": "code",
   "execution_count": 95,
   "metadata": {},
   "outputs": [
    {
     "data": {
      "text/html": [
       "<div>\n",
       "<style scoped>\n",
       "    .dataframe tbody tr th:only-of-type {\n",
       "        vertical-align: middle;\n",
       "    }\n",
       "\n",
       "    .dataframe tbody tr th {\n",
       "        vertical-align: top;\n",
       "    }\n",
       "\n",
       "    .dataframe thead th {\n",
       "        text-align: right;\n",
       "    }\n",
       "</style>\n",
       "<table border=\"1\" class=\"dataframe\">\n",
       "  <thead>\n",
       "    <tr style=\"text-align: right;\">\n",
       "      <th></th>\n",
       "      <th>session_id</th>\n",
       "      <th>session_with_booking</th>\n",
       "    </tr>\n",
       "    <tr>\n",
       "      <th>device</th>\n",
       "      <th></th>\n",
       "      <th></th>\n",
       "    </tr>\n",
       "  </thead>\n",
       "  <tbody>\n",
       "    <tr>\n",
       "      <th>mobile</th>\n",
       "      <td>401049</td>\n",
       "      <td>6784</td>\n",
       "    </tr>\n",
       "    <tr>\n",
       "      <th>pc</th>\n",
       "      <td>926480</td>\n",
       "      <td>12281</td>\n",
       "    </tr>\n",
       "    <tr>\n",
       "      <th>tablet</th>\n",
       "      <td>99943</td>\n",
       "      <td>786</td>\n",
       "    </tr>\n",
       "  </tbody>\n",
       "</table>\n",
       "</div>"
      ],
      "text/plain": [
       "        session_id  session_with_booking\n",
       "device                                  \n",
       "mobile      401049                  6784\n",
       "pc          926480                 12281\n",
       "tablet       99943                   786"
      ]
     },
     "execution_count": 95,
     "metadata": {},
     "output_type": "execute_result"
    }
   ],
   "source": [
    "# Посмотрим общую разбивку по девайсам\n",
    "df_device_data = df.groupby(['device']).agg({'session_id': 'count', 'session_with_booking':'sum'}) \n",
    "df_device_data\n",
    "# Пользователи все же предпочитают ПК для просмотра и бронирования, планшеты имеют наименьший вес"
   ]
  },
  {
   "cell_type": "code",
   "execution_count": 96,
   "metadata": {},
   "outputs": [
    {
     "data": {
      "text/plain": [
       "91327     319532782\n",
       "144592    342816964\n",
       "128653    339098657\n",
       "62644     299787728\n",
       "37950     250119897\n",
       "            ...    \n",
       "671989    357963454\n",
       "70398     305837429\n",
       "82351     313260619\n",
       "44485     271707986\n",
       "103489    327994537\n",
       "Name: user_id, Length: 1559, dtype: int64"
      ]
     },
     "execution_count": 96,
     "metadata": {},
     "output_type": "execute_result"
    }
   ],
   "source": [
    "#Найдем пользователей с наибольшим value \n",
    "\n",
    "user_value = df.groupby('user_id', as_index = False).agg({'session_id':'count', 'session_with_booking':'sum'}) \\\n",
    "    .sort_values('session_with_booking', ascending = False)\n",
    "user_value\n",
    "#  Будем считать, что пользователь с бронированием 2  и больше  - ценный клиент \n",
    "user_max_value = user_value.query('session_with_booking >= 2')\n",
    "user_max_value_id = user_max_value['user_id']\n",
    "user_max_value['user_id']"
   ]
  },
  {
   "cell_type": "code",
   "execution_count": 97,
   "metadata": {},
   "outputs": [
    {
     "data": {
      "text/html": [
       "<div>\n",
       "<style scoped>\n",
       "    .dataframe tbody tr th:only-of-type {\n",
       "        vertical-align: middle;\n",
       "    }\n",
       "\n",
       "    .dataframe tbody tr th {\n",
       "        vertical-align: top;\n",
       "    }\n",
       "\n",
       "    .dataframe thead th {\n",
       "        text-align: right;\n",
       "    }\n",
       "</style>\n",
       "<table border=\"1\" class=\"dataframe\">\n",
       "  <thead>\n",
       "    <tr style=\"text-align: right;\">\n",
       "      <th></th>\n",
       "      <th>marketing_channel_1</th>\n",
       "      <th>marketing_channel_2</th>\n",
       "      <th>number_of_sessions</th>\n",
       "      <th>number_of_sessions_with_booking</th>\n",
       "    </tr>\n",
       "  </thead>\n",
       "  <tbody>\n",
       "    <tr>\n",
       "      <th>2</th>\n",
       "      <td>brand</td>\n",
       "      <td>type-in</td>\n",
       "      <td>5625</td>\n",
       "      <td>2738</td>\n",
       "    </tr>\n",
       "    <tr>\n",
       "      <th>3</th>\n",
       "      <td>brand</td>\n",
       "      <td>vital</td>\n",
       "      <td>3222</td>\n",
       "      <td>1928</td>\n",
       "    </tr>\n",
       "    <tr>\n",
       "      <th>0</th>\n",
       "      <td>brand</td>\n",
       "      <td>email</td>\n",
       "      <td>805</td>\n",
       "      <td>264</td>\n",
       "    </tr>\n",
       "    <tr>\n",
       "      <th>6</th>\n",
       "      <td>metasearch</td>\n",
       "      <td>gotravelunl</td>\n",
       "      <td>289</td>\n",
       "      <td>165</td>\n",
       "    </tr>\n",
       "    <tr>\n",
       "      <th>9</th>\n",
       "      <td>partners</td>\n",
       "      <td>cpa-affiliate</td>\n",
       "      <td>338</td>\n",
       "      <td>164</td>\n",
       "    </tr>\n",
       "    <tr>\n",
       "      <th>7</th>\n",
       "      <td>metasearch</td>\n",
       "      <td>hc</td>\n",
       "      <td>254</td>\n",
       "      <td>65</td>\n",
       "    </tr>\n",
       "    <tr>\n",
       "      <th>10</th>\n",
       "      <td>seo</td>\n",
       "      <td>yandex</td>\n",
       "      <td>183</td>\n",
       "      <td>57</td>\n",
       "    </tr>\n",
       "    <tr>\n",
       "      <th>5</th>\n",
       "      <td>cpc</td>\n",
       "      <td>sem</td>\n",
       "      <td>65</td>\n",
       "      <td>22</td>\n",
       "    </tr>\n",
       "    <tr>\n",
       "      <th>8</th>\n",
       "      <td>metasearch</td>\n",
       "      <td>trivago</td>\n",
       "      <td>44</td>\n",
       "      <td>22</td>\n",
       "    </tr>\n",
       "    <tr>\n",
       "      <th>4</th>\n",
       "      <td>cpc</td>\n",
       "      <td>retargeting</td>\n",
       "      <td>11</td>\n",
       "      <td>3</td>\n",
       "    </tr>\n",
       "    <tr>\n",
       "      <th>1</th>\n",
       "      <td>brand</td>\n",
       "      <td>smm</td>\n",
       "      <td>3</td>\n",
       "      <td>1</td>\n",
       "    </tr>\n",
       "  </tbody>\n",
       "</table>\n",
       "</div>"
      ],
      "text/plain": [
       "   marketing_channel_1 marketing_channel_2  number_of_sessions  \\\n",
       "2                brand             type-in                5625   \n",
       "3                brand               vital                3222   \n",
       "0                brand               email                 805   \n",
       "6           metasearch         gotravelunl                 289   \n",
       "9             partners       cpa-affiliate                 338   \n",
       "7           metasearch                  hc                 254   \n",
       "10                 seo              yandex                 183   \n",
       "5                  cpc                 sem                  65   \n",
       "8           metasearch             trivago                  44   \n",
       "4                  cpc         retargeting                  11   \n",
       "1                brand                 smm                   3   \n",
       "\n",
       "    number_of_sessions_with_booking  \n",
       "2                              2738  \n",
       "3                              1928  \n",
       "0                               264  \n",
       "6                               165  \n",
       "9                               164  \n",
       "7                                65  \n",
       "10                               57  \n",
       "5                                22  \n",
       "8                                22  \n",
       "4                                 3  \n",
       "1                                 1  "
      ]
     },
     "execution_count": 97,
     "metadata": {},
     "output_type": "execute_result"
    }
   ],
   "source": [
    "# Объединяем основной датасет с юзерами с высоким value, и группируем по каналам\n",
    "df_merge_max_value = df.merge(user_max_value_id, how= 'inner', on = 'user_id')\n",
    "df_merge_max_value.groupby(['marketing_channel_1', 'marketing_channel_2']).agg({'session_id':'count','session_with_booking':'sum'}) \\\n",
    "    .reset_index().rename(columns = {'session_id': 'number_of_sessions', 'session_with_booking':'number_of_sessions_with_booking'}) \\\n",
    "        .sort_values('number_of_sessions_with_booking', ascending = False)\n",
    "#Как можно заметить, доля брeндовых каналов преобладает среди постоянных клиентов, что логично"
   ]
  },
  {
   "cell_type": "markdown",
   "metadata": {},
   "source": []
  }
 ],
 "metadata": {
  "kernelspec": {
   "display_name": "Python 3.9.12 ('base')",
   "language": "python",
   "name": "python3"
  },
  "language_info": {
   "codemirror_mode": {
    "name": "ipython",
    "version": 3
   },
   "file_extension": ".py",
   "mimetype": "text/x-python",
   "name": "python",
   "nbconvert_exporter": "python",
   "pygments_lexer": "ipython3",
   "version": "3.9.12"
  },
  "orig_nbformat": 4,
  "vscode": {
   "interpreter": {
    "hash": "d9b2d0e2aeef0dcc5831054c163ba47df9dbc4112a6d6f51b0c6cb7d57cb4b1a"
   }
  }
 },
 "nbformat": 4,
 "nbformat_minor": 2
}
